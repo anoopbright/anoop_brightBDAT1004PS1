{
 "cells": [
  {
   "cell_type": "markdown",
   "id": "9f324eb0",
   "metadata": {},
   "source": [
    "# Problem Set 1"
   ]
  },
  {
   "cell_type": "markdown",
   "id": "f84c23ab",
   "metadata": {},
   "source": [
    "## Question 1 : What data type is each of the following (evaluate where necessary)?"
   ]
  },
  {
   "cell_type": "code",
   "execution_count": 5,
   "id": "3d661d7e",
   "metadata": {},
   "outputs": [
    {
     "data": {
      "text/plain": [
       "int"
      ]
     },
     "execution_count": 5,
     "metadata": {},
     "output_type": "execute_result"
    }
   ],
   "source": [
    "type(5)"
   ]
  },
  {
   "cell_type": "code",
   "execution_count": 6,
   "id": "b01399e2",
   "metadata": {},
   "outputs": [
    {
     "data": {
      "text/plain": [
       "float"
      ]
     },
     "execution_count": 6,
     "metadata": {},
     "output_type": "execute_result"
    }
   ],
   "source": [
    "type(5.0)"
   ]
  },
  {
   "cell_type": "code",
   "execution_count": 7,
   "id": "c85d74cc",
   "metadata": {},
   "outputs": [
    {
     "data": {
      "text/plain": [
       "bool"
      ]
     },
     "execution_count": 7,
     "metadata": {},
     "output_type": "execute_result"
    }
   ],
   "source": [
    "type(5>1)"
   ]
  },
  {
   "cell_type": "code",
   "execution_count": 8,
   "id": "7822cbf8",
   "metadata": {},
   "outputs": [
    {
     "data": {
      "text/plain": [
       "str"
      ]
     },
     "execution_count": 8,
     "metadata": {},
     "output_type": "execute_result"
    }
   ],
   "source": [
    "type('5')"
   ]
  },
  {
   "cell_type": "code",
   "execution_count": 9,
   "id": "9febadbe",
   "metadata": {},
   "outputs": [
    {
     "data": {
      "text/plain": [
       "int"
      ]
     },
     "execution_count": 9,
     "metadata": {},
     "output_type": "execute_result"
    }
   ],
   "source": [
    "type(5 * 2)"
   ]
  },
  {
   "cell_type": "code",
   "execution_count": 10,
   "id": "01f89a5c",
   "metadata": {},
   "outputs": [
    {
     "data": {
      "text/plain": [
       "str"
      ]
     },
     "execution_count": 10,
     "metadata": {},
     "output_type": "execute_result"
    }
   ],
   "source": [
    "type('5' * 2)"
   ]
  },
  {
   "cell_type": "code",
   "execution_count": 11,
   "id": "be21c56c",
   "metadata": {},
   "outputs": [
    {
     "data": {
      "text/plain": [
       "str"
      ]
     },
     "execution_count": 11,
     "metadata": {},
     "output_type": "execute_result"
    }
   ],
   "source": [
    "type('5' + '2')"
   ]
  },
  {
   "cell_type": "code",
   "execution_count": 12,
   "id": "ed6d1823",
   "metadata": {},
   "outputs": [
    {
     "data": {
      "text/plain": [
       "float"
      ]
     },
     "execution_count": 12,
     "metadata": {},
     "output_type": "execute_result"
    }
   ],
   "source": [
    "type(5 / 2)"
   ]
  },
  {
   "cell_type": "code",
   "execution_count": 13,
   "id": "3fed32a0",
   "metadata": {},
   "outputs": [
    {
     "data": {
      "text/plain": [
       "int"
      ]
     },
     "execution_count": 13,
     "metadata": {},
     "output_type": "execute_result"
    }
   ],
   "source": [
    "type(5 % 2)"
   ]
  },
  {
   "cell_type": "code",
   "execution_count": 14,
   "id": "8b729df9",
   "metadata": {},
   "outputs": [
    {
     "data": {
      "text/plain": [
       "set"
      ]
     },
     "execution_count": 14,
     "metadata": {},
     "output_type": "execute_result"
    }
   ],
   "source": [
    "type({5, 2, 1})"
   ]
  },
  {
   "cell_type": "code",
   "execution_count": 19,
   "id": "3302b910",
   "metadata": {},
   "outputs": [
    {
     "data": {
      "text/plain": [
       "bool"
      ]
     },
     "execution_count": 19,
     "metadata": {},
     "output_type": "execute_result"
    }
   ],
   "source": [
    "type(5 == 3)"
   ]
  },
  {
   "cell_type": "code",
   "execution_count": 20,
   "id": "9d8c00ea",
   "metadata": {},
   "outputs": [
    {
     "data": {
      "text/plain": [
       "float"
      ]
     },
     "execution_count": 20,
     "metadata": {},
     "output_type": "execute_result"
    }
   ],
   "source": [
    "pi = 3.14\n",
    "type(pi)"
   ]
  },
  {
   "cell_type": "markdown",
   "id": "ecd3f782",
   "metadata": {},
   "source": [
    "## Question 2 : Write (and evaluate) python expressions that answer these questions:\n"
   ]
  },
  {
   "cell_type": "markdown",
   "id": "b6c45f86",
   "metadata": {},
   "source": [
    "### a. How many letters are there in 'Supercalifragilisticexpialidocious'?"
   ]
  },
  {
   "cell_type": "code",
   "execution_count": 24,
   "id": "572a299e",
   "metadata": {},
   "outputs": [
    {
     "name": "stdout",
     "output_type": "stream",
     "text": [
      "34\n"
     ]
    }
   ],
   "source": [
    "word =  'Supercalifragilisticexpialidocious'\n",
    "letters = len(word)\n",
    "print(letters)"
   ]
  },
  {
   "cell_type": "markdown",
   "id": "270789b9",
   "metadata": {},
   "source": [
    "### b. Does 'Supercalifragilisticexpialidocious' contain 'ice' as a substring? "
   ]
  },
  {
   "cell_type": "code",
   "execution_count": 1,
   "id": "01417409",
   "metadata": {},
   "outputs": [
    {
     "name": "stdout",
     "output_type": "stream",
     "text": [
      "True\n"
     ]
    }
   ],
   "source": [
    "string = 'Supercalifragilisticexpialidocious'\n",
    "substring = 'ice'\n",
    "contains_substring = substring in string\n",
    "print(contains_substring)\n"
   ]
  },
  {
   "cell_type": "markdown",
   "id": "8ddbc2eb",
   "metadata": {},
   "source": [
    "### c. Which of the following words is the longest:\n",
    "### Supercalifragilisticexpialidocious, Honorificabilitudinitatibus, or\n",
    "### Bababadalgharaghtakamminarronnkonn?\n"
   ]
  },
  {
   "cell_type": "code",
   "execution_count": 4,
   "id": "91d4594c",
   "metadata": {},
   "outputs": [
    {
     "name": "stdout",
     "output_type": "stream",
     "text": [
      "Longest word =  Supercalifragilisticexpialidocious\n"
     ]
    }
   ],
   "source": [
    "word1 =  'Supercalifragilisticexpialidocious'\n",
    "word2 =  'Honorificabilitudinitatibus'\n",
    "word3 =   'Bababadalgharaghtakamminarronnkonn'\n",
    "\n",
    "if word1>word2:\n",
    "        if word1>word3:\n",
    "            print(\"Longest word = \" ,word1)\n",
    "        elif word1==word2:\n",
    "            print(\"Both the words Supercalifragilisticexpialidocious and Bababadalgharaghtakamminarronnkonn are equal.\")\n",
    "elif word2>word3:\n",
    "    print(\"The longest word is:\", word2)\n"
   ]
  },
  {
   "cell_type": "markdown",
   "id": "65f8205d",
   "metadata": {},
   "source": [
    "### d. Which composer comes first in the dictionary: 'Berlioz', 'Borodin', 'Brian',\n",
    "\n",
    "### 'Bartok', 'Bellini', 'Buxtehude', 'Bernstein'. Which one comes last?"
   ]
  },
  {
   "cell_type": "code",
   "execution_count": 4,
   "id": "e4aa1d2c",
   "metadata": {},
   "outputs": [
    {
     "name": "stdout",
     "output_type": "stream",
     "text": [
      "The composer who comes first in the dictionary is Berlioz\n",
      "The composer who comes last in the dictionary is Bernstein\n"
     ]
    }
   ],
   "source": [
    "composer = ['Berlioz', 'Borodin', 'Brian','Bartok', 'Bellini', 'Buxtehude', 'Bernstein']\n",
    "print (\"The composer who comes first in the dictionary is\", composer[0])\n",
    "print(\"The composer who comes last in the dictionary is\",composer[-1])"
   ]
  },
  {
   "cell_type": "markdown",
   "id": "fc1677de",
   "metadata": {},
   "source": [
    "## Question 3\n",
    "### Implement function triangleArea(a,b,c) that takes as input the lengths of the 3\n",
    "### sides of a triangle and returns the area of the triangle. By Heron's formula, the area\n",
    "### of a triangle with side lengths a, b, and c is\n",
    "### s(s - a)(s -b)(s -c)\n",
    "### , where\n",
    "### s = (a+b+c)/2. "
   ]
  },
  {
   "cell_type": "code",
   "execution_count": 13,
   "id": "d08e61d4",
   "metadata": {},
   "outputs": [],
   "source": [
    "import math\n",
    "def sides(a,b,c):\n",
    "    s = (a+b+c)/2\n",
    "    Area = math.sqrt(s*(s-a)*(s-b)*(s-c))\n",
    "    return Area\n"
   ]
  },
  {
   "cell_type": "code",
   "execution_count": 14,
   "id": "e92e27f5",
   "metadata": {},
   "outputs": [
    {
     "data": {
      "text/plain": [
       "1.7320508075688772"
      ]
     },
     "execution_count": 14,
     "metadata": {},
     "output_type": "execute_result"
    }
   ],
   "source": [
    "sides(2,2,2)"
   ]
  },
  {
   "cell_type": "markdown",
   "id": "6759b41f",
   "metadata": {},
   "source": [
    "## Question 4\n",
    "### Write a program in python to separate odd and even integers in separate arrays"
   ]
  },
  {
   "cell_type": "code",
   "execution_count": 27,
   "id": "12feaef6",
   "metadata": {},
   "outputs": [
    {
     "name": "stdout",
     "output_type": "stream",
     "text": [
      "The even values are:  [42, 56, 32]\n",
      "The odd values are:  [27, 47]\n"
     ]
    }
   ],
   "source": [
    "elements = [27,47,42,56,32]\n",
    "\n",
    "even = []\n",
    "odd = []\n",
    "for num in elements:\n",
    "    \n",
    "    if num %2 == 0:\n",
    "        even.append(num)\n",
    "    else:\n",
    "        odd.append(num)\n",
    "print(\"The even values are: \", even)\n",
    "print(\"The odd values are: \",odd)"
   ]
  },
  {
   "cell_type": "markdown",
   "id": "85bcbdd1",
   "metadata": {},
   "source": [
    "## Question 5\n",
    "### a. Write a function inside(x,y,x1,y1,x2,y2) that returns True or False\n",
    "### depending on whether the point (x,y) lies in the rectangle with lower left\n",
    "### corner (x1,y1) and upper right corner (x2,y2)."
   ]
  },
  {
   "cell_type": "code",
   "execution_count": 37,
   "id": "63f35d23",
   "metadata": {},
   "outputs": [],
   "source": [
    "def inside(x,y,x1,y1,x2,y2):\n",
    "    if x >= x1 and x <= x2 and y >= y1 and y <= y2:\n",
    "        return True\n",
    "    else:\n",
    "        return False\n",
    "    "
   ]
  },
  {
   "cell_type": "code",
   "execution_count": 38,
   "id": "e0724619",
   "metadata": {},
   "outputs": [
    {
     "data": {
      "text/plain": [
       "True"
      ]
     },
     "execution_count": 38,
     "metadata": {},
     "output_type": "execute_result"
    }
   ],
   "source": [
    " inside(1,1,0,0,2,3)\n",
    "    "
   ]
  },
  {
   "cell_type": "code",
   "execution_count": 39,
   "id": "c56ab2f9",
   "metadata": {},
   "outputs": [
    {
     "data": {
      "text/plain": [
       "False"
      ]
     },
     "execution_count": 39,
     "metadata": {},
     "output_type": "execute_result"
    }
   ],
   "source": [
    " inside(-1,-1,0,0,2,3)"
   ]
  },
  {
   "cell_type": "markdown",
   "id": "765b8786",
   "metadata": {},
   "source": [
    "### b. Use function inside() from part a. to write an expression that tests whether\n",
    "### the point (1,1) lies in both of the following rectangles: one with lower left\n",
    "### corner (0.3, 0.5) and upper right corner (1.1, 0.7) and the other with lower\n",
    "### left corner (0.5, 0.2) and upper right corner (1.1, 2).    "
   ]
  },
  {
   "cell_type": "code",
   "execution_count": 43,
   "id": "bb97f618",
   "metadata": {},
   "outputs": [
    {
     "data": {
      "text/plain": [
       "False"
      ]
     },
     "execution_count": 43,
     "metadata": {},
     "output_type": "execute_result"
    }
   ],
   "source": [
    "inside(1,1,0.3,0.5,1.1,0.7)"
   ]
  },
  {
   "cell_type": "code",
   "execution_count": 44,
   "id": "51c4bd5f",
   "metadata": {},
   "outputs": [
    {
     "data": {
      "text/plain": [
       "True"
      ]
     },
     "execution_count": 44,
     "metadata": {},
     "output_type": "execute_result"
    }
   ],
   "source": [
    "inside(1,1,0.5,0.2,1.1,2)"
   ]
  },
  {
   "cell_type": "markdown",
   "id": "00f51c59",
   "metadata": {},
   "source": [
    "## Question 6\n",
    "### 16. You can turn a word into pig-Latin using the following two rules (simplified):\n",
    "### • If the word starts with a consonant, move that letter to the end and append\n",
    "### 'ay'. For example, 'happy' becomes 'appyhay' and 'pencil' becomes 'encilpay'.\n",
    "### • If the word starts with a vowel, simply append 'way' to the end of the word.\n",
    "### For example, 'enter' becomes 'enterway' and 'other' becomes 'otherway' . For\n",
    "### our purposes, there are 5 vowels: a, e, i, o, u (so we count y as a consonant).\n",
    "### Write a function pig() that takes a word (i.e., a string) as input and returns its pigLatin form. Your function should still work if the input word contains upper case\n",
    "### characters. Your output should always be lower case however"
   ]
  },
  {
   "cell_type": "code",
   "execution_count": 61,
   "id": "169af957",
   "metadata": {},
   "outputs": [],
   "source": [
    "def pig(word):\n",
    "    wd = word.lower()\n",
    "    vowels=['a','e','i','o','u']\n",
    "    if wd[0] in vowels:\n",
    "        print('pig latin word is',wd+'way')\n",
    "    else :\n",
    "        print('pig latin word is',wd[1:]+wd[0]+'ay')"
   ]
  },
  {
   "cell_type": "code",
   "execution_count": 65,
   "id": "ad4944d5",
   "metadata": {},
   "outputs": [
    {
     "name": "stdout",
     "output_type": "stream",
     "text": [
      "pig latin word is appyhay\n"
     ]
    }
   ],
   "source": [
    "pig('happy')"
   ]
  },
  {
   "cell_type": "code",
   "execution_count": 66,
   "id": "95344c98",
   "metadata": {},
   "outputs": [
    {
     "name": "stdout",
     "output_type": "stream",
     "text": [
      "pig latin word is enterway\n"
     ]
    }
   ],
   "source": [
    "pig('enter')"
   ]
  },
  {
   "cell_type": "markdown",
   "id": "9cc67372",
   "metadata": {},
   "source": [
    "## Question 7\n",
    "### File bloodtype1.txt records blood-types of patients (A, B, AB, O or OO) at a clinic.\n",
    "### Write a function bldcount() that reads the file with name name and reports (i.e.,\n",
    "### prints) how many patients there are in each bloodtype."
   ]
  },
  {
   "cell_type": "code",
   "execution_count": 77,
   "id": "31bb83f2",
   "metadata": {},
   "outputs": [],
   "source": [
    "def bloodcount(name):\n",
    "    bldcount= {'A':0,'B':0,'AB':0,'O':0,'OO':0}\n",
    "    bldlist = name.split()\n",
    "    for bld in bldlist:\n",
    "        if bld in bldcount:\n",
    "            bldcount[bld]+=1\n",
    "    return bldcount"
   ]
  },
  {
   "cell_type": "code",
   "execution_count": 78,
   "id": "71793813",
   "metadata": {},
   "outputs": [
    {
     "data": {
      "text/plain": [
       "{'A': 15, 'B': 1, 'AB': 13, 'O': 15, 'OO': 0}"
      ]
     },
     "execution_count": 78,
     "metadata": {},
     "output_type": "execute_result"
    }
   ],
   "source": [
    "filename = open('C:\\\\Users\\\\catherine\\\\Downloads\\\\bloodtype.txt','r')\n",
    "bloodcount(filename.readline())"
   ]
  },
  {
   "cell_type": "markdown",
   "id": "9673c1ce",
   "metadata": {},
   "source": [
    "## Question 8\n",
    "### Write a function curconv() that takes as input:\n",
    "### 1. a currency represented using a string (e.g., 'JPY' for the Japanese Yen or\n",
    "### 'EUR' for the Euro)\n",
    "### 2. an amount\n",
    "### and then converts and returns the amount in US dollars."
   ]
  },
  {
   "cell_type": "code",
   "execution_count": 86,
   "id": "86867393",
   "metadata": {},
   "outputs": [],
   "source": [
    "def curconv(cur,amt):\n",
    "    currates = {'AUD': 1.0345157,'CHF':1.0237414 ,'CNY':0.1550176,'DKK':0.1651442,'EUR':1.2296544 ,'GBP':1.5550989,'HKD':0.1270207, 'INR':0.0177643, 'JPY':0.01241401, 'MXN':0.0751848,'MYR':0.3145411, 'NOK':0.1677063,'NZD':0.8003591,'PHP':0.0233234,'SEK':0.148269,'SGD':0.788871,'THB':0.0313789}\n",
    "   \n",
    "    if cur in currates:\n",
    "        usdconv = currates[cur]*amt\n",
    "        \n",
    "    return usdconv\n"
   ]
  },
  {
   "cell_type": "code",
   "execution_count": 87,
   "id": "d9ee8a07",
   "metadata": {},
   "outputs": [
    {
     "data": {
      "text/plain": [
       "122.96544"
      ]
     },
     "execution_count": 87,
     "metadata": {},
     "output_type": "execute_result"
    }
   ],
   "source": [
    "curconv('EUR', 100)"
   ]
  },
  {
   "cell_type": "code",
   "execution_count": 90,
   "id": "e39d4eaa",
   "metadata": {},
   "outputs": [
    {
     "data": {
      "text/plain": [
       "1.241401"
      ]
     },
     "execution_count": 90,
     "metadata": {},
     "output_type": "execute_result"
    }
   ],
   "source": [
    " curconv('JPY', 100)"
   ]
  },
  {
   "cell_type": "markdown",
   "id": "f2a34375",
   "metadata": {},
   "source": [
    "## Question 9\n",
    "### Each of the following will cause an exception (an error). Identify what type of\n",
    "### exception each will cause"
   ]
  },
  {
   "cell_type": "markdown",
   "id": "241a38c2",
   "metadata": {},
   "source": [
    "### 1.Trying to add incompatible variables, as in\n",
    "### adding 6 + ‘a’\n"
   ]
  },
  {
   "cell_type": "code",
   "execution_count": 93,
   "id": "6556a1fe",
   "metadata": {},
   "outputs": [],
   "source": [
    "#6+'a'\n",
    "#Error=unsupported operand type(s) for +: 'int' and 'str'\n"
   ]
  },
  {
   "cell_type": "markdown",
   "id": "0eb45d7b",
   "metadata": {},
   "source": [
    "### 2.Referring to the 12th item of a list that has only 10\n",
    "### items"
   ]
  },
  {
   "cell_type": "code",
   "execution_count": 94,
   "id": "d0d9e304",
   "metadata": {},
   "outputs": [],
   "source": [
    "#Error = list index out of range"
   ]
  },
  {
   "cell_type": "markdown",
   "id": "10a928ee",
   "metadata": {},
   "source": [
    "### 3.Using a value that is out of range for a function’s\n",
    "### input, such as calling math.sqrt(-1.0)\n"
   ]
  },
  {
   "cell_type": "code",
   "execution_count": 95,
   "id": "9d27065e",
   "metadata": {},
   "outputs": [],
   "source": [
    "#Error = math domain error"
   ]
  },
  {
   "cell_type": "markdown",
   "id": "5ce3a396",
   "metadata": {},
   "source": [
    "### 4.Using an undeclared variable, such as print(x)\n",
    "### when x has not been defined"
   ]
  },
  {
   "cell_type": "code",
   "execution_count": 96,
   "id": "92fa22f2",
   "metadata": {},
   "outputs": [],
   "source": [
    "#Error = name 'x' is not defined"
   ]
  },
  {
   "cell_type": "markdown",
   "id": "b19390cc",
   "metadata": {},
   "source": [
    "### 5.Trying to open a file that does not exist, such as\n",
    "### mistyping the file name or looking in the wrong\n",
    "### directory. "
   ]
  },
  {
   "cell_type": "code",
   "execution_count": 97,
   "id": "fcbbe8b8",
   "metadata": {},
   "outputs": [],
   "source": [
    "#Error =No such file or directory:'python.txt'"
   ]
  },
  {
   "cell_type": "markdown",
   "id": "21433568",
   "metadata": {},
   "source": [
    "### Question 10\n",
    "### Encryption is the process of hiding the meaning of a text by substituting letters in the\n",
    "### message with other letters, according to some system. If the process is successful, no\n",
    "### one but the intended recipient can understand the encrypted message. Cryptanalysis\n",
    "### refers to attempts to undo the encryption, even if some details of the encryption are\n",
    "### unknown (for example, if an encrypted message has been intercepted). The first step\n",
    "### of cryptanalysis is often to build up a table of letter frequencies in the encrypted text.\n",
    "### Assume that the string letters is already defined as\n",
    "### 'abcdefghijklmnopqrstuvwxyz'. Write a function called frequencies()\n",
    "### that takes a string as its only parameter, and returns a list of integers, showing the\n",
    "### number of times each character appears in the text. Your function may ignore any\n",
    "### characters that are not in letters. "
   ]
  },
  {
   "cell_type": "code",
   "execution_count": 107,
   "id": "d8bda501",
   "metadata": {},
   "outputs": [],
   "source": [
    "def frequencies(text):\n",
    "    lwrcase = text.lower()\n",
    "    letters ='abcdefghijklmnopqrstuvwxyz'\n",
    "    freq = [0]*26\n",
    "    for char in lwrcase:\n",
    "        if char in letters:\n",
    "            index=letters.index(char)\n",
    "            freq[index] +=1\n",
    "        else:\n",
    "            freq[index]=1\n",
    "    return freq\n",
    "            \n",
    "        \n",
    "    \n",
    "    \n",
    "    \n",
    "    "
   ]
  },
  {
   "cell_type": "code",
   "execution_count": 108,
   "id": "f600ae71",
   "metadata": {},
   "outputs": [
    {
     "data": {
      "text/plain": [
       "[1, 1, 1, 1, 5, 1, 1, 2, 1, 0, 1, 0, 1, 2, 4, 0, 1, 2, 0, 1, 1, 0, 1, 1, 0, 0]"
      ]
     },
     "execution_count": 108,
     "metadata": {},
     "output_type": "execute_result"
    }
   ],
   "source": [
    "frequencies('The quick red fox got bored and went home')"
   ]
  },
  {
   "cell_type": "code",
   "execution_count": 109,
   "id": "6193e578",
   "metadata": {},
   "outputs": [
    {
     "data": {
      "text/plain": [
       "[1, 0, 0, 0, 1, 0, 0, 0, 0, 0, 0, 1, 0, 0, 0, 2, 0, 0, 0, 0, 0, 0, 0, 0, 0, 0]"
      ]
     },
     "execution_count": 109,
     "metadata": {},
     "output_type": "execute_result"
    }
   ],
   "source": [
    "frequencies('apple')"
   ]
  }
 ],
 "metadata": {
  "kernelspec": {
   "display_name": "Python 3 (ipykernel)",
   "language": "python",
   "name": "python3"
  },
  "language_info": {
   "codemirror_mode": {
    "name": "ipython",
    "version": 3
   },
   "file_extension": ".py",
   "mimetype": "text/x-python",
   "name": "python",
   "nbconvert_exporter": "python",
   "pygments_lexer": "ipython3",
   "version": "3.10.9"
  }
 },
 "nbformat": 4,
 "nbformat_minor": 5
}
